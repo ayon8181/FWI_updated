{
 "cells": [
  {
   "cell_type": "markdown",
   "id": "71a84366-23fa-421a-8355-36519bac41cd",
   "metadata": {},
   "source": [
    "## Running seisflows following 2D Example Walkthrough\n",
    "https://seisflows.readthedocs.io/en/devel/2D_example_walkthrough.html   \n",
    "by AR  "
   ]
  },
  {
   "cell_type": "code",
   "execution_count": 1,
   "id": "1c2f85a3-be3a-4a69-83b8-4c95cbe3e226",
   "metadata": {},
   "outputs": [],
   "source": [
    "import os\n",
    "import glob\n",
    "import shutil\n",
    "import time\n",
    "import numpy as np\n",
    "from IPython.display import Image"
   ]
  },
  {
   "cell_type": "code",
   "execution_count": 2,
   "id": "128cec3f-d8cd-444e-8e52-92de127de5c3",
   "metadata": {},
   "outputs": [],
   "source": [
    "t0 = time.time()\n",
    "WORKDIR = \"/home/ayon/WORK/FWI/Seisflows/example\"\n",
    "SPECFEM2D = \"/home/ayon/WORK/specfem2d\"\n",
    "# where WORKDIR: points to working directory\n",
    "# and SPECFEM2D: points to an existing specfem2D repository if available (if not set as '')\n",
    "\n",
    "# The SPECFEM2D working directory that we will create separate from the downloaded repo\n",
    "SPECFEM2D_WORKDIR = os.path.join(WORKDIR, \"specfem2d_workdir\")\n",
    "SPECFEM2D_BIN = os.path.join(SPECFEM2D_WORKDIR, \"bin\")\n",
    "SPECFEM2D_DATA = os.path.join(SPECFEM2D_WORKDIR, \"DATA\")\n",
    "SPECFEM2D_OUTPUT = os.path.join(SPECFEM2D_WORKDIR, \"OUTPUT_FILES\")\n",
    "\n",
    "# Pre-defined locations of velocity models we will generate using the solver\n",
    "SPECFEM2D_MODEL_INIT = os.path.join(SPECFEM2D_WORKDIR, \"OUTPUT_FILES_INIT\")\n",
    "SPECFEM2D_MODEL_TRUE = os.path.join(SPECFEM2D_WORKDIR, \"OUTPUT_FILES_TRUE\")"
   ]
  },
  {
   "cell_type": "code",
   "execution_count": 3,
   "id": "f5794ac5",
   "metadata": {},
   "outputs": [
    {
     "data": {
      "text/plain": [
       "0"
      ]
     },
     "execution_count": 3,
     "metadata": {},
     "output_type": "execute_result"
    }
   ],
   "source": [
    "os.makedirs(SPECFEM2D_WORKDIR, exist_ok=True)\n",
    "os.makedirs(SPECFEM2D_BIN, exist_ok=True)\n",
    "os.makedirs(SPECFEM2D_DATA, exist_ok=True)\n",
    "os.makedirs(SPECFEM2D_OUTPUT, exist_ok=True)\n",
    "os.makedirs(SPECFEM2D_MODEL_INIT, exist_ok=True)\n",
    "os.makedirs(SPECFEM2D_MODEL_TRUE, exist_ok=True)\n",
    "\n",
    "os.system(\"cp \"+SPECFEM2D+\"/bin/* \"+SPECFEM2D_BIN)\n",
    "os.system(\"cp specfem2d_workdir/DATA/* \"+SPECFEM2D_DATA)\n",
    "os.system(\"cp specfem2d_workdir/DATA/SOURCE* \"+SPECFEM2D_DATA)\n",
    "os.system(\"cp specfem2d_workdir/DATA/STATIONS \"+SPECFEM2D_DATA)\n",
    "os.system(\"cp specfem2d_workdir/OUTPUT_FILES_INIT/* \"+SPECFEM2D_MODEL_INIT)\n",
    "os.system(\"cp specfem2d_workdir/OUTPUT_FILES_TRUE/* \"+SPECFEM2D_MODEL_TRUE)"
   ]
  },
  {
   "cell_type": "code",
   "execution_count": 4,
   "id": "97332bc5-d946-4f52-b403-f7bc00518c27",
   "metadata": {},
   "outputs": [
    {
     "name": "stdout",
     "output_type": "stream",
     "text": [
      "usage: seisflows [-h] [-w [WORKDIR]] [-p [PARAMETER_FILE]]\r\n",
      "                 {setup,configure,swap,submit,resume,restart,clean,par,sempar,check,init,plot2d,plotst,print,reset,debug,examples}\r\n",
      "                 ...\r\n",
      "\r\n",
      "================================================================================\r\n",
      "\r\n",
      "                     SeisFlows: Waveform Inversion Package                      \r\n",
      "\r\n",
      "================================================================================\r\n",
      "\r\n",
      "options:\r\n",
      "  -h, --help            show this help message and exit\r\n",
      "  -w [WORKDIR], --workdir [WORKDIR]\r\n",
      "                        The SeisFlows working directory, default: cwd\r\n",
      "  -p [PARAMETER_FILE], --parameter_file [PARAMETER_FILE]\r\n",
      "                        Parameters file, default: 'parameters.yaml'\r\n",
      "\r\n",
      "command:\r\n",
      "  Available SeisFlows arguments and their intended usages\r\n",
      "\r\n",
      "    setup               Setup working directory from scratch\r\n",
      "    configure           Fill parameter file with defaults\r\n",
      "    swap                Swap module parameters in an existing parameter file\r\n",
      "    submit              Submit initial workflow to system\r\n",
      "    resume              Re-submit previous workflow to system\r\n",
      "    restart             Remove current environment and submit new workflow\r\n",
      "    clean               Remove files relating to an active working environment\r\n",
      "    par                 View and edit SeisFlows parameter file\r\n",
      "    sempar              View and edit SPECFEM parameter file\r\n",
      "    plot2d              Plot 2D figures of models/kernels/gradients.\r\n",
      "    print               Print information related to an active environment\r\n",
      "    reset               Reset modules within an active state\r\n",
      "    debug               Start interactive debug environment\r\n",
      "    examples            Look at and run pre-configured example problems\r\n",
      "\r\n",
      "'seisflows [command] -h' for more detailed descriptions of each command.\r\n"
     ]
    }
   ],
   "source": [
    "!seisflows -h"
   ]
  },
  {
   "cell_type": "markdown",
   "id": "894556d5-1a2b-4193-9acb-90f6e1a38773",
   "metadata": {},
   "source": [
    "## Populate Par_file"
   ]
  },
  {
   "cell_type": "code",
   "execution_count": 5,
   "id": "f343be9f-3d84-4dd1-a01c-95b31317b1b7",
   "metadata": {},
   "outputs": [
    {
     "name": "stdout",
     "output_type": "stream",
     "text": [
      "/home/ayon/WORK/FWI/Seisflows/example\n",
      "created parameter file: parameters.yaml\n",
      "g_02_vs.png  m_02_vs.png    output\t     sflog.txt\n",
      "logs\t     m_init_vs.png  parameters.yaml  sfstate.txt\n",
      "m_01_vs.png  m_true_vs.png  scratch\t     specfem2d_workdir\n"
     ]
    }
   ],
   "source": [
    "# The command 'setup' creates the 'parameters.yaml' file that controls all of SeisFlows\n",
    "# the '-f' flag removes any exist 'parameters.yaml' file that might be in the directory\n",
    "os.chdir(WORKDIR)\n",
    "!pwd\n",
    "!seisflows setup -f\n",
    "!ls"
   ]
  },
  {
   "cell_type": "code",
   "execution_count": 6,
   "id": "63c97e3b-d483-4d96-9d4f-096ba1bf201d",
   "metadata": {},
   "outputs": [
    {
     "name": "stdout",
     "output_type": "stream",
     "text": [
      "\r\n",
      "# //////////////////////////////////////////////////////////////////////////////\r\n",
      "#\r\n",
      "#                        SeisFlows YAML Parameter File\r\n",
      "#\r\n",
      "# //////////////////////////////////////////////////////////////////////////////\r\n",
      "#\r\n",
      "# Modules correspond to the structure of the source code, and determine\r\n",
      "# SeisFlows' behavior at runtime. Each module requires its own sub-parameters.\r\n",
      "#\r\n",
      "# .. rubric::\r\n",
      "#   - Determine available options for modules by running:\r\n",
      "#       > seisflows print modules\r\n",
      "#   - Auto-fill with docstrings and default values (recommended) by running:\r\n",
      "#       > seisflows configure\r\n",
      "#   - Swap out module parameters for a configured parameter file by running:\r\n",
      "#       > seisflows swap {module} {name} (e.g., seisflows swap solver specfem3d)\r\n",
      "#   - To set values as NoneType, use: null\r\n",
      "#   - To set values as infinity, use: inf\r\n",
      "#\r\n",
      "#                                    MODULES\r\n",
      "#                                    ///////\r\n",
      "# workflow (str):    The types and order of functions for running SeisFlows\r\n",
      "# system (str):      Computer architecture of the system being used\r\n",
      "# solver (str):      External numerical solver to use for waveform simulations\r\n",
      "# preprocess (str):  Preprocessing schema for waveform data\r\n",
      "# optimize (str):    Optimization algorithm for the inverse problem\r\n",
      "# ==============================================================================\r\n",
      "workflow: forward\r\n",
      "system: workstation\r\n",
      "solver: specfem2d\r\n",
      "preprocess: default\r\n",
      "optimize: gradient\r\n"
     ]
    }
   ],
   "source": [
    "# Let's have a look at this file, which has not yet been populated\n",
    "!cat parameters.yaml"
   ]
  },
  {
   "cell_type": "code",
   "execution_count": 7,
   "id": "6d801f1e-b678-4b1f-857e-78f76e143e68",
   "metadata": {},
   "outputs": [
    {
     "name": "stdout",
     "output_type": "stream",
     "text": [
      "                               SEISFLOWS MODULES                                \r\n",
      "                               /////////////////                                \r\n",
      "'-': module, '*': class\r\n",
      "\r\n",
      "- workflow\r\n",
      "    * forward\r\n",
      "    * inversion\r\n",
      "    * migration\r\n",
      "    * test_flow\r\n",
      "- system\r\n",
      "    * chinook\r\n",
      "    * cluster\r\n",
      "    * frontera\r\n",
      "    * fujitsu\r\n",
      "    * lsf\r\n",
      "    * maui\r\n",
      "    * singularity\r\n",
      "    * slurm\r\n",
      "    * wisteria\r\n",
      "    * workstation\r\n",
      "- solver\r\n",
      "    * specfem\r\n",
      "    * specfem2d\r\n",
      "    * specfem3d\r\n",
      "    * specfem3d_globe\r\n",
      "- preprocess\r\n",
      "    * default\r\n",
      "    * pyaflowa\r\n",
      "- optimize\r\n",
      "    * LBFGS\r\n",
      "    * NLCG\r\n",
      "    * gradient\r\n"
     ]
    }
   ],
   "source": [
    "# We can use the `seisflows print modules` command to list out the available options\n",
    "!seisflows print modules"
   ]
  },
  {
   "cell_type": "code",
   "execution_count": 8,
   "id": "ddbc4d7e-1867-411c-9580-01ad1caca953",
   "metadata": {},
   "outputs": [
    {
     "name": "stdout",
     "output_type": "stream",
     "text": [
      "workflow: forward -> inversion\n",
      "preprocess: default -> pyaflowa\n",
      "optimize: gradient -> LBFGS\n",
      "\n",
      "# //////////////////////////////////////////////////////////////////////////////\n",
      "#\n",
      "#                        SeisFlows YAML Parameter File\n",
      "#\n",
      "# //////////////////////////////////////////////////////////////////////////////\n",
      "#\n",
      "# Modules correspond to the structure of the source code, and determine\n",
      "# SeisFlows' behavior at runtime. Each module requires its own sub-parameters.\n",
      "#\n",
      "# .. rubric::\n",
      "#   - Determine available options for modules by running:\n",
      "#       > seisflows print modules\n",
      "#   - Auto-fill with docstrings and default values (recommended) by running:\n",
      "#       > seisflows configure\n",
      "#   - Swap out module parameters for a configured parameter file by running:\n",
      "#       > seisflows swap {module} {name} (e.g., seisflows swap solver specfem3d)\n",
      "#   - To set values as NoneType, use: null\n",
      "#   - To set values as infinity, use: inf\n",
      "#\n",
      "#                                    MODULES\n",
      "#                                    ///////\n",
      "# workflow (str):    The types and order of functions for running SeisFlows\n",
      "# system (str):      Computer architecture of the system being used\n",
      "# solver (str):      External numerical solver to use for waveform simulations\n",
      "# preprocess (str):  Preprocessing schema for waveform data\n",
      "# optimize (str):    Optimization algorithm for the inverse problem\n",
      "# ==============================================================================\n",
      "workflow: inversion\n",
      "system: workstation\n",
      "solver: specfem2d\n",
      "preprocess: pyaflowa\n",
      "optimize: LBFGS\n"
     ]
    }
   ],
   "source": [
    "# For this example, we can use most of the default modules, however we need to\n",
    "# change the SOLVER module to let SeisFlows know we're using SPECFEM2D (as opposed to 3D)\n",
    "!seisflows par workflow inversion\n",
    "!seisflows par preprocess pyaflowa\n",
    "!seisflows par optimize LBFGS\n",
    "!cat parameters.yaml"
   ]
  },
  {
   "cell_type": "code",
   "execution_count": 9,
   "id": "1ff88fa5-86d5-4b52-9858-5ebc88baed13",
   "metadata": {},
   "outputs": [
    {
     "name": "stdout",
     "output_type": "stream",
     "text": [
      "configuring SeisFlows parameter file\n",
      "L-BFGS optimization requires 'backtrack'ing line search. Overwriting 'bracket'\n",
      "\n",
      "# //////////////////////////////////////////////////////////////////////////////\n",
      "#\n",
      "#                        SeisFlows YAML Parameter File\n",
      "#\n",
      "# //////////////////////////////////////////////////////////////////////////////\n",
      "#\n",
      "# Modules correspond to the structure of the source code, and determine\n",
      "# SeisFlows' behavior at runtime. Each module requires its own sub-parameters.\n",
      "#\n",
      "# .. rubric::\n",
      "#   - Determine available options for modules by running:\n",
      "#       > seisflows print modules\n",
      "#   - Auto-fill with docstrings and default values (recommended) by running:\n",
      "#       > seisflows configure\n",
      "#   - Swap out module parameters for a configured parameter file by running:\n",
      "#       > seisflows swap {module} {name} (e.g., seisflows swap solver specfem3d)\n",
      "#   - To set values as NoneType, use: null\n",
      "#   - To set values as infinity, use: inf\n",
      "#\n",
      "#                                    MODULES\n",
      "#                                    ///////\n",
      "# workflow (str):    The types and order of functions for running SeisFlows\n",
      "# system (str):      Computer architecture of the system being used\n",
      "# solver (str):      External numerical solver to use for waveform simulations\n",
      "# preprocess (str):  Preprocessing schema for waveform data\n",
      "# optimize (str):    Optimization algorithm for the inverse problem\n",
      "# ==============================================================================\n",
      "workflow: inversion\n",
      "system: workstation\n",
      "solver: specfem2d\n",
      "preprocess: pyaflowa\n",
      "optimize: LBFGS\n",
      "# =============================================================================\n",
      "#\n",
      "#    Forward Workflow\n",
      "#    ----------------\n",
      "#    Defines foundational structure for Workflow module. When used standalone \n",
      "#    is in charge of running forward solver in parallel and (optionally) \n",
      "#    calculating data-synthetic misfit and adjoint sources.\n",
      "#\n",
      "#    Parameters\n",
      "#    ----------\n",
      "#    :type modules: list of module\n",
      "#    :param modules: instantiated SeisFlows modules which should have been\n",
      "#        generated by the function `seisflows.config.import_seisflows` with a\n",
      "#        parameter file generated by seisflows.configure\n",
      "#    :type data_case: str\n",
      "#    :param data_case: How to address 'data' in the workflow, available options:\n",
      "#        'data': real data will be provided by the user in\n"
     ]
    }
   ],
   "source": [
    "# The seisflows configure command populates the parameter file based on the chosen modules. \n",
    "# SeisFlows will attempt to fill in all parameters with reasonable default values. \n",
    "!seisflows configure\n",
    "!head --lines=50 parameters.yaml"
   ]
  },
  {
   "cell_type": "code",
   "execution_count": 10,
   "id": "6a6f74af-32be-44bf-857c-bca972876bb3",
   "metadata": {},
   "outputs": [
    {
     "name": "stdout",
     "output_type": "stream",
     "text": [
      "ntask: 1 -> 5\n",
      "nproc: 1 -> 1\n",
      "materials: acoustic -> elastic\n",
      "start: 1 -> 1\n",
      "end: 1 -> 5\n",
      "data_case: data -> synthetic\n",
      "components: null -> Y\n",
      "adj_src_type: cc_traveltime -> cc_traveltime\n",
      "step_count_max: 10 -> 10\n",
      "smooth_h: 0.0 -> 5000\n",
      "smooth_v: 0.0 -> 5000\n",
      "min_period: 1.0 -> 10\n",
      "max_period: 10.0 -> 200\n",
      "filter_corners: 4 -> 4\n",
      "plot: True -> True\n",
      "path_specfem_bin: null ->\n",
      "/home/ayon/WORK/FWI/Seisflows/example/specfem2d_workdir/bin\n",
      "path_specfem_data: null ->\n",
      "/home/ayon/WORK/FWI/Seisflows/example/specfem2d_workdir/DATA\n",
      "path_model_init: null ->\n",
      "/home/ayon/WORK/FWI/Seisflows/example/specfem2d_workdir/OUTPUT_FILES_INIT\n",
      "path_model_true: null ->\n",
      "/home/ayon/WORK/FWI/Seisflows/example/specfem2d_workdir/OUTPUT_FILES_TRUE\n"
     ]
    },
    {
     "data": {
      "text/plain": [
       "0"
      ]
     },
     "execution_count": 10,
     "metadata": {},
     "output_type": "execute_result"
    }
   ],
   "source": [
    "# EDIT THE SEISFLOWS PARAMETER FILE\n",
    "!seisflows par ntask 5  # set the number of sources/events to use\n",
    "!seisflows par nproc 1  # set the number of sources/events to use\n",
    "!seisflows par materials elastic  # update Vp and Vs during inversion\n",
    "!seisflows par start 1  # initial iteration -- we will only run 1\n",
    "!seisflows par end 5    # final iteration -- we will only run 1\n",
    "!seisflows par data_case synthetic  # synthetic-synthetic means we need both INIT and TRUE models\n",
    "!seisflows par components Y  # this default example creates Y-component seismograms\n",
    "!seisflows par adj_src_type cc_traveltime   # options: 'cc': cross-correlation, 'mt': multitaper, 'wav': waveform\n",
    "!seisflows par step_count_max 10  # limit the number of steps in the line search\n",
    "!seisflows par smooth_h 5000  # smoothing distance \n",
    "!seisflows par smooth_v 5000  # smoothing distance\n",
    "!seisflows par min_period 10  # tmin\n",
    "!seisflows par max_period 200 # tmax\n",
    "!seisflows par filter_corners 4 # limit the number of steps in the line search\n",
    "!seisflows par plot True #Plot waveform figures and source receiver maps during the preprocessing stage\n",
    "\n",
    "# Use Python syntax here to access path constants\n",
    "os.system(f\"seisflows par path_specfem_bin {SPECFEM2D_BIN}\")  # set path to SPECFEM2D binaries\n",
    "os.system(f\"seisflows par path_specfem_data {SPECFEM2D_DATA}\")  # set path to SEPCFEM2D DATA/\n",
    "os.system(f\"seisflows par path_model_init {SPECFEM2D_MODEL_INIT}\")  # set path to INIT model\n",
    "os.system(f\"seisflows par path_model_true {SPECFEM2D_MODEL_TRUE}\")  # set path to TRUE model"
   ]
  },
  {
   "cell_type": "code",
   "execution_count": 11,
   "id": "7885de03-4bae-4569-83b3-3617f6c437d3",
   "metadata": {},
   "outputs": [
    {
     "name": "stdout",
     "output_type": "stream",
     "text": [
      "MODEL: gll -> gll\n",
      "use_existing_STATIONS: .true. -> .true.\n"
     ]
    }
   ],
   "source": [
    "# edit the SPECFEM2D Par_file parameter MODEL such that xmeshfem2d reads our pre-built velocity models \n",
    "# (*.bin files) rather than the meshing parameters defined in the Par_file.\n",
    "os.chdir(SPECFEM2D_DATA)\n",
    "!seisflows sempar model gll\n",
    "!seisflows sempar use_existing_STATIONS .true."
   ]
  },
  {
   "cell_type": "markdown",
   "id": "a7fb46ad-85f0-4f3d-9d7c-d269a3c50515",
   "metadata": {},
   "source": [
    "## Run seisflows "
   ]
  },
  {
   "cell_type": "markdown",
   "id": "aa4a602e-7659-470e-8f72-096cb8a4f8fe",
   "metadata": {},
   "source": [
    "### Forward simulation"
   ]
  },
  {
   "cell_type": "code",
   "execution_count": 12,
   "id": "a329af9a-c380-4531-b0bf-729632d5d9f7",
   "metadata": {},
   "outputs": [
    {
     "name": "stdout",
     "output_type": "stream",
     "text": [
      "                          SEISFLOWS WORKFLOW TASK LIST                          \r\n",
      "                          ////////////////////////////                          \r\n",
      "Task list for <class 'seisflows.workflow.inversion.Inversion'>\r\n",
      "\r\n",
      "1: evaluate_initial_misfit\r\n",
      "2: run_adjoint_simulations\r\n",
      "3: postprocess_event_kernels\r\n",
      "4: evaluate_gradient_from_kernels\r\n",
      "5: initialize_line_search\r\n",
      "6: perform_line_search\r\n",
      "7: finalize_iteration\r\n"
     ]
    }
   ],
   "source": [
    "os.chdir(WORKDIR)\n",
    "!seisflows print tasks"
   ]
  },
  {
   "cell_type": "markdown",
   "id": "2d2a8595-c5c0-4bb7-bf81-9b9ab63ce1b5",
   "metadata": {},
   "source": [
    "In the Inversion workflow, the tasks listed are described as follows:\n",
    "\n",
    "1. Evaluate_initial_misfit:  \n",
    "a. Prepare data for inversion by either copying data from disk or generating ‘synthetic data’ with MODEL_TRUE  \n",
    "b. Call numerical solver to run forward simulations using MODEL_INIT, generating synthetics  \n",
    "c. Evaluate the objective function by performing waveform comparisons  \n",
    "d. Prepare run_adjoint_simulations step by generating adjoint sources and auxiliary files  \n",
    "2. Run_adjoint_simulations: Call numerical solver to run adjoint simulation, generating kernels\n",
    "3. Postprocess_event_kernels: Combine all event kernels into a misfit kernel.\n",
    "4. Evaluate_gradient_from_kernels: Smooth and mask the misfit kernel to create the gradient\n",
    "5. Initialize_line_search: Call on the optimization library to scale the gradient by a step length to compute the search direction. Prepare file structure for line search.\n",
    "6. Perform_line_search: Perform a line search by algorithmically scaling the gradient and evaluating the misfit function (forward simulations and misfit quantification) until misfit is acceptably reduced.\n",
    "7. Finalize_iteration: Run any finalization steps such as saving traces, kernels, gradients and models to disk, setting up SeisFlows for any subsequent iterations. Clean the scratch/ directory in preparation for subsequent iterations"
   ]
  },
  {
   "cell_type": "markdown",
   "id": "cee76a18-11aa-423b-aade-5d481d12009b",
   "metadata": {},
   "source": [
    "seisflows submit is used to run new workflows and resume stopped or failed workflows.\n",
    "The restart command is simply a convenience function that runs clean (to remove an active working state) and submit (to submit a fresh workflow).\n",
    "Since this is our first run, we’ll use seisflows submit."
   ]
  },
  {
   "cell_type": "code",
   "execution_count": null,
   "id": "624d3c3d-b3f1-4f52-a4cf-4bff37e9c611",
   "metadata": {},
   "outputs": [
    {
     "name": "stdout",
     "output_type": "stream",
     "text": [
      "\n",
      "================================================================================\n",
      "                                     CLEAN                                      \n",
      "                                     /////                                      \n",
      "This will remove all workflow objects leaving only the parameter file. Are you\n",
      "sure you want to continue? (y/[n])\n",
      "================================================================================2025-04-18 13:39:23 (I) | \n",
      "================================================================================\n",
      "                         SETTING UP INVERSION WORKFLOW                          \n",
      "================================================================================\n",
      "2025-04-18 13:39:29 (D) | running setup for module 'system.Workstation'\n",
      "2025-04-18 13:39:32 (D) | copying par/log file to: /home/ayon/WORK/FWI/Seisflows/example/logs/sflog_001.txt\n",
      "2025-04-18 13:39:32 (D) | copying par/log file to: /home/ayon/WORK/FWI/Seisflows/example/logs/parameters_001.yaml\n",
      "2025-04-18 13:39:32 (D) | running setup for module 'solver.Specfem2D'\n",
      "2025-04-18 13:39:32 (I) | initializing 5 solver directories\n",
      "2025-04-18 13:39:32 (D) | initializing solver directory source: 001\n",
      "2025-04-18 13:39:41 (D) | linking source '001' as 'mainsolver'\n",
      "2025-04-18 13:39:41 (D) | initializing solver directory source: 002\n",
      "2025-04-18 13:39:49 (D) | initializing solver directory source: 003\n",
      "2025-04-18 13:39:54 (D) | initializing solver directory source: 004\n",
      "2025-04-18 13:39:59 (D) | initializing solver directory source: 005\n",
      "2025-04-18 13:40:06 (D) | running setup for module 'preprocess.Pyaflowa'\n",
      "2025-04-18 13:40:10 (D) | running setup for module 'optimize.LBFGS'\n",
      "2025-04-18 13:40:12 (I) | no optimization checkpoint found, assuming first run\n",
      "2025-04-18 13:40:14 (I) | re-loading optimization module from checkpoint\n",
      "2025-04-18 13:40:14 (I) | \n",
      "////////////////////////////////////////////////////////////////////////////////\n",
      "                              RUNNING ITERATION 01                              \n",
      "////////////////////////////////////////////////////////////////////////////////\n",
      "2025-04-18 13:40:14 (I) | \n",
      "================================================================================\n",
      "                           RUNNING INVERSION WORKFLOW                           \n",
      "================================================================================\n",
      "2025-04-18 13:40:14 (I) | \n",
      "////////////////////////////////////////////////////////////////////////////////\n",
      "                      EVALUATING MISFIT FOR INITIAL MODEL                       \n",
      "////////////////////////////////////////////////////////////////////////////////\n",
      "2025-04-18 13:40:14 (I) | checking initial model parameters\n",
      "2025-04-18 13:40:14 (I) | 5800.00 <= vp <= 5800.00\n",
      "2025-04-18 13:40:14 (I) | 3500.00 <= vs <= 3500.00\n",
      "2025-04-18 13:40:14 (I) | checking true/target model parameters\n",
      "2025-04-18 13:40:14 (I) | 5526.10 <= vp <= 6088.50\n",
      "2025-04-18 13:40:14 (I) | 3150.10 <= vs <= 3849.90\n",
      "2025-04-18 13:40:14 (I) | preparing observation data for source 001\n",
      "2025-04-18 13:40:14 (I) | running forward simulation w/ target model for 001\n",
      "2025-04-18 13:40:14 (D) | running executable with cmd: 'bin/xmeshfem2D'\n",
      "2025-04-18 13:40:14 (D) | running executable with cmd: 'bin/xspecfem2D'\n",
      "2025-04-18 13:40:22 (I) | evaluating objective function for source 001\n",
      "2025-04-18 13:40:22 (D) | running forward simulation with 'Specfem2D'\n",
      "2025-04-18 13:40:22 (D) | running executable with cmd: 'bin/xmeshfem2D'\n",
      "2025-04-18 13:40:22 (D) | running executable with cmd: 'bin/xspecfem2D'\n",
      "2025-04-18 13:40:30 (D) | quantifying misfit with 'Pyaflowa'\n",
      "2025-04-18 13:41:15 (I) | preparing observation data for source 002\n",
      "2025-04-18 13:41:15 (I) | running forward simulation w/ target model for 002\n",
      "2025-04-18 13:41:15 (D) | running executable with cmd: 'bin/xmeshfem2D'\n",
      "2025-04-18 13:41:15 (D) | running executable with cmd: 'bin/xspecfem2D'\n",
      "2025-04-18 13:41:23 (I) | evaluating objective function for source 002\n",
      "2025-04-18 13:41:23 (D) | running forward simulation with 'Specfem2D'\n",
      "2025-04-18 13:41:23 (D) | running executable with cmd: 'bin/xmeshfem2D'\n",
      "2025-04-18 13:41:23 (D) | running executable with cmd: 'bin/xspecfem2D'\n",
      "2025-04-18 13:41:31 (D) | quantifying misfit with 'Pyaflowa'\n",
      "2025-04-18 13:42:16 (I) | preparing observation data for source 003\n",
      "2025-04-18 13:42:16 (I) | running forward simulation w/ target model for 003\n",
      "2025-04-18 13:42:16 (D) | running executable with cmd: 'bin/xmeshfem2D'\n",
      "2025-04-18 13:42:16 (D) | running executable with cmd: 'bin/xspecfem2D'\n",
      "2025-04-18 13:42:24 (I) | evaluating objective function for source 003\n",
      "2025-04-18 13:42:24 (D) | running forward simulation with 'Specfem2D'\n",
      "2025-04-18 13:42:24 (D) | running executable with cmd: 'bin/xmeshfem2D'\n",
      "2025-04-18 13:42:24 (D) | running executable with cmd: 'bin/xspecfem2D'\n",
      "2025-04-18 13:42:32 (D) | quantifying misfit with 'Pyaflowa'\n",
      "2025-04-18 13:43:17 (I) | preparing observation data for source 004\n",
      "2025-04-18 13:43:17 (I) | running forward simulation w/ target model for 004\n",
      "2025-04-18 13:43:17 (D) | running executable with cmd: 'bin/xmeshfem2D'\n",
      "2025-04-18 13:43:17 (D) | running executable with cmd: 'bin/xspecfem2D'\n",
      "2025-04-18 13:43:25 (I) | evaluating objective function for source 004\n",
      "2025-04-18 13:43:25 (D) | running forward simulation with 'Specfem2D'\n",
      "2025-04-18 13:43:25 (D) | running executable with cmd: 'bin/xmeshfem2D'\n",
      "2025-04-18 13:43:25 (D) | running executable with cmd: 'bin/xspecfem2D'\n",
      "2025-04-18 13:43:33 (D) | quantifying misfit with 'Pyaflowa'\n",
      "2025-04-18 13:44:19 (I) | preparing observation data for source 005\n",
      "2025-04-18 13:44:19 (I) | running forward simulation w/ target model for 005\n",
      "2025-04-18 13:44:19 (D) | running executable with cmd: 'bin/xmeshfem2D'\n",
      "2025-04-18 13:44:19 (D) | running executable with cmd: 'bin/xspecfem2D'\n",
      "2025-04-18 13:44:27 (I) | evaluating objective function for source 005\n",
      "2025-04-18 13:44:27 (D) | running forward simulation with 'Specfem2D'\n",
      "2025-04-18 13:44:27 (D) | running executable with cmd: 'bin/xmeshfem2D'\n",
      "2025-04-18 13:44:27 (D) | running executable with cmd: 'bin/xspecfem2D'\n",
      "2025-04-18 13:44:35 (D) | quantifying misfit with 'Pyaflowa'\n",
      "2025-04-18 13:45:21 (I) | \n",
      "////////////////////////////////////////////////////////////////////////////////\n",
      "                EVALUATING EVENT KERNELS W/ ADJOINT SIMULATIONS                 \n",
      "////////////////////////////////////////////////////////////////////////////////\n",
      "2025-04-18 13:45:21 (I) | running adjoint simulation for source 001\n",
      "2025-04-18 13:45:21 (I) | running SPECFEM executable bin/xspecfem2D, log to 'adj_solver.log'\n",
      "2025-04-18 13:45:21 (D) | running executable with cmd: 'bin/xspecfem2D'\n",
      "2025-04-18 13:45:43 (D) | renaming output event kernels: 'alpha' -> 'vp'\n",
      "2025-04-18 13:45:43 (D) | renaming output event kernels: 'beta' -> 'vs'\n",
      "2025-04-18 13:45:44 (I) | running adjoint simulation for source 002\n",
      "2025-04-18 13:45:44 (I) | running SPECFEM executable bin/xspecfem2D, log to 'adj_solver.log'\n",
      "2025-04-18 13:45:44 (D) | running executable with cmd: 'bin/xspecfem2D'\n",
      "2025-04-18 13:46:06 (D) | renaming output event kernels: 'alpha' -> 'vp'\n",
      "2025-04-18 13:46:06 (D) | renaming output event kernels: 'beta' -> 'vs'\n",
      "2025-04-18 13:46:07 (I) | running adjoint simulation for source 003\n",
      "2025-04-18 13:46:07 (I) | running SPECFEM executable bin/xspecfem2D, log to 'adj_solver.log'\n",
      "2025-04-18 13:46:07 (D) | running executable with cmd: 'bin/xspecfem2D'\n",
      "2025-04-18 13:46:29 (D) | renaming output event kernels: 'alpha' -> 'vp'\n",
      "2025-04-18 13:46:29 (D) | renaming output event kernels: 'beta' -> 'vs'\n",
      "2025-04-18 13:46:30 (I) | running adjoint simulation for source 004\n",
      "2025-04-18 13:46:30 (I) | running SPECFEM executable bin/xspecfem2D, log to 'adj_solver.log'\n",
      "2025-04-18 13:46:30 (D) | running executable with cmd: 'bin/xspecfem2D'\n",
      "2025-04-18 13:46:53 (D) | renaming output event kernels: 'alpha' -> 'vp'\n",
      "2025-04-18 13:46:53 (D) | renaming output event kernels: 'beta' -> 'vs'\n",
      "2025-04-18 13:46:53 (I) | running adjoint simulation for source 005\n",
      "2025-04-18 13:46:53 (I) | running SPECFEM executable bin/xspecfem2D, log to 'adj_solver.log'\n",
      "2025-04-18 13:46:53 (D) | running executable with cmd: 'bin/xspecfem2D'\n",
      "2025-04-18 13:47:16 (D) | renaming output event kernels: 'alpha' -> 'vp'\n",
      "2025-04-18 13:47:16 (D) | renaming output event kernels: 'beta' -> 'vs'\n"
     ]
    },
    {
     "name": "stdout",
     "output_type": "stream",
     "text": [
      "2025-04-18 13:47:17 (I) | \n",
      "////////////////////////////////////////////////////////////////////////////////\n",
      "                      GENERATING/PROCESSING MISFIT KERNEL                       \n",
      "////////////////////////////////////////////////////////////////////////////////\n",
      "2025-04-18 13:47:17 (I) | combining event kernels into single misfit kernel\n",
      "2025-04-18 13:47:19 (D) | running executable with cmd: 'bin/xcombine_sem vp_kernel kernel_paths /home/ayon/WORK/FWI/Seisflows/example/scratch/eval_grad/misfit_kernel'\n",
      "2025-04-18 13:47:19 (D) | running executable with cmd: 'bin/xcombine_sem vs_kernel kernel_paths /home/ayon/WORK/FWI/Seisflows/example/scratch/eval_grad/misfit_kernel'\n",
      "2025-04-18 13:47:19 (I) | smoothing misfit kernel: H=5000; V=5000\n",
      "2025-04-18 13:47:19 (D) | smoothing ['vp', 'vs'] with horizontal Gaussian 5000m and vertical Gaussian 5000m\n",
      "2025-04-18 13:47:19 (D) | running executable with cmd: 'bin/xsmooth_sem 5000 5000 vp_kernel /home/ayon/WORK/FWI/Seisflows/example/scratch/eval_grad/mk_nosmooth/ /home/ayon/WORK/FWI/Seisflows/example/scratch/eval_grad/misfit_kernel/ .false'\n",
      "2025-04-18 13:47:28 (D) | running executable with cmd: 'bin/xsmooth_sem 5000 5000 vs_kernel /home/ayon/WORK/FWI/Seisflows/example/scratch/eval_grad/mk_nosmooth/ /home/ayon/WORK/FWI/Seisflows/example/scratch/eval_grad/misfit_kernel/ .false'\n",
      "2025-04-18 13:47:38 (I) | scaling gradient to absolute model perturbations\n",
      "2025-04-18 13:47:38 (W) | no coordinates found for assumed SPECFEM2D model, will not be able to plot figures\n",
      "2025-04-18 13:47:38 (W) | no coordinates found for assumed SPECFEM2D model, will not be able to plot figures\n",
      "2025-04-18 13:47:38 (I) | exporting gradient to disk\n",
      "2025-04-18 13:47:38 (D) | /home/ayon/WORK/FWI/Seisflows/example/output/gradient -> /home/ayon/WORK/FWI/Seisflows/example/output/GRADIENT_01\n",
      "2025-04-18 13:47:38 (W) | no coordinates found for assumed SPECFEM2D model, will not be able to plot figures\n",
      "2025-04-18 13:47:38 (I) | \n",
      "////////////////////////////////////////////////////////////////////////////////\n",
      "                              RUNNING LINE SEARCH                               \n",
      "////////////////////////////////////////////////////////////////////////////////\n",
      "2025-04-18 13:47:38 (I) | initializing 'Backtrack'ing line search\n",
      "2025-04-18 13:47:38 (I) | first L-BFGS iteration, default to 'Gradient' descent\n",
      "2025-04-18 13:47:38 (I) | enforcing max step length safeguard\n",
      "2025-04-18 13:47:38 (D) | step length(s) = 0.00E+00\n",
      "2025-04-18 13:47:38 (D) | misfit val(s)  = 2.24E-01\n",
      "2025-04-18 13:47:38 (I) | try: first evaluation, attempt guess step length, alpha=1.74E+02\n",
      "2025-04-18 13:47:38 (D) | overwriting initial step length, alpha_new=1.16E+05\n",
      "2025-04-18 13:47:38 (I) | trial model 'm_try' parameters: \n",
      "2025-04-18 13:47:40 (I) | step count incremented -> 1\n",
      "2025-04-18 13:47:40 (I) | \n",
      "LINE SEARCH STEP COUNT 01\n",
      "--------------------------------------------------------------------------------\n",
      "2025-04-18 13:47:40 (I) | evaluating objective function for source 001\n",
      "2025-04-18 13:47:40 (D) | running forward simulation with 'Specfem2D'\n",
      "2025-04-18 13:47:40 (D) | running executable with cmd: 'bin/xmeshfem2D'\n",
      "2025-04-18 13:47:40 (D) | running executable with cmd: 'bin/xspecfem2D'\n",
      "2025-04-18 13:47:48 (D) | quantifying misfit with 'Pyaflowa'\n",
      "2025-04-18 13:48:32 (I) | evaluating objective function for source 002\n",
      "2025-04-18 13:48:32 (D) | running forward simulation with 'Specfem2D'\n",
      "2025-04-18 13:48:32 (D) | running executable with cmd: 'bin/xmeshfem2D'\n",
      "2025-04-18 13:48:32 (D) | running executable with cmd: 'bin/xspecfem2D'\n",
      "2025-04-18 13:48:40 (D) | quantifying misfit with 'Pyaflowa'\n",
      "2025-04-18 13:49:26 (I) | evaluating objective function for source 003\n",
      "2025-04-18 13:49:26 (D) | running forward simulation with 'Specfem2D'\n",
      "2025-04-18 13:49:26 (D) | running executable with cmd: 'bin/xmeshfem2D'\n",
      "2025-04-18 13:49:26 (D) | running executable with cmd: 'bin/xspecfem2D'\n",
      "2025-04-18 13:49:34 (D) | quantifying misfit with 'Pyaflowa'\n"
     ]
    }
   ],
   "source": [
    "\n",
    "!echo y | seisflows restart\n",
    "\n"
   ]
  },
  {
   "cell_type": "code",
   "execution_count": null,
   "id": "38d5b6ae-00eb-403c-9306-34113876ce14",
   "metadata": {},
   "outputs": [],
   "source": [
    "# Plot and open the initial homogeneous halfspace model\n",
    "!seisflows plot2d MODEL_INIT vs --savefig m_init_vs.png\n",
    "Image(filename='m_init_vs.png')"
   ]
  },
  {
   "cell_type": "code",
   "execution_count": null,
   "id": "b1570b39-411f-4ad4-9524-b9c0bd9880a6",
   "metadata": {},
   "outputs": [],
   "source": [
    "# Plot and open the initial homogeneous halfspace model\n",
    "!seisflows plot2d MODEL_TRUE vs --savefig m_true_vs.png\n",
    "Image(filename='m_true_vs.png')"
   ]
  },
  {
   "cell_type": "code",
   "execution_count": null,
   "id": "b1ff8d43-a36e-4f2a-9c3b-43d3a3cb3edc",
   "metadata": {},
   "outputs": [],
   "source": [
    "!seisflows plot2d GRADIENT_02 vs_kernel --savefig g_02_vs.png\n",
    "Image(filename='g_02_vs.png')"
   ]
  },
  {
   "cell_type": "code",
   "execution_count": null,
   "id": "e81417b1-73c8-4e69-a52e-49443ebdfdbb",
   "metadata": {},
   "outputs": [],
   "source": [
    "!seisflows plot2d MODEL_01 vs --savefig m_01_vs.png\n",
    "Image(filename='m_01_vs.png')"
   ]
  },
  {
   "cell_type": "code",
   "execution_count": null,
   "id": "07a5d0f4-d784-4edd-8977-003e3268cc12",
   "metadata": {},
   "outputs": [],
   "source": [
    "!seisflows plot2d MODEL_02 vs --savefig m_02_vs.png\n",
    "Image(filename='m_02_vs.png')"
   ]
  },
  {
   "cell_type": "code",
   "execution_count": null,
   "id": "e6b4efec-1127-44a7-8325-581e4ec7c830",
   "metadata": {},
   "outputs": [],
   "source": [
    "!seisflows plot2d MODEL_05 vs --savefig m_05_vs.png\n",
    "Image(filename='m_05_vs.png')"
   ]
  },
  {
   "cell_type": "code",
   "execution_count": null,
   "id": "3cdd4fd4-d6d9-4189-becc-6897bbeded58",
   "metadata": {},
   "outputs": [],
   "source": [
    "print(time.time() - t0, \"seconds wall time\")"
   ]
  },
  {
   "cell_type": "code",
   "execution_count": null,
   "id": "e10c8874-b2cb-44db-ac23-28995df8baa2",
   "metadata": {},
   "outputs": [],
   "source": []
  }
 ],
 "metadata": {
  "kernelspec": {
   "display_name": "Python [conda env:fwi]",
   "language": "python",
   "name": "conda-env-fwi-py"
  },
  "language_info": {
   "codemirror_mode": {
    "name": "ipython",
    "version": 3
   },
   "file_extension": ".py",
   "mimetype": "text/x-python",
   "name": "python",
   "nbconvert_exporter": "python",
   "pygments_lexer": "ipython3",
   "version": "3.12.9"
  }
 },
 "nbformat": 4,
 "nbformat_minor": 5
}
